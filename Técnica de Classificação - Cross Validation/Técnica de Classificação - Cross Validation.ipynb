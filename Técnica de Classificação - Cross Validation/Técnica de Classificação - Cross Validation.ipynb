{
 "cells": [
  {
   "cell_type": "markdown",
   "metadata": {
    "id": "4ozJegOz2289"
   },
   "source": [
    "# Técnica de Classificação - Cross Validation"
   ]
  },
  {
   "cell_type": "markdown",
   "metadata": {
    "id": "FBUO_9oW25bf"
   },
   "source": [
    "#### **Contextualização**\n",
    "\n",
    "Neste projeto, trabalhamos com dados operacionais da empresa fictícia ProQuim, onde uma engenheira busca desenvolver um modelo preditivo capaz de identificar se o compressor da área 100 da planta está operando normalmente ou apresentando alguma condição anômala.\n",
    "\n",
    "Ao longo de um ano, foram coletadas informações de sensores relacionados à operação dos compressores, incluindo:\n",
    "\n",
    "* Temperatura\n",
    "\n",
    "* Pressão\n",
    "\n",
    "* Velocidade\n",
    "\n",
    "* Vibração\n",
    "\n",
    "Além desses dados, foi registrada também a condição operacional real de cada equipamento, servindo como rótulo para o problema de classificação binária.\n",
    "\n",
    "O objetivo principal é construir um modelo utilizando a técnica de Máquina de Vetores de Suporte (SVM) da biblioteca scikit-learn, capaz de prever corretamente o estado operacional dos compressores com base nas variáveis medidas. Para avaliar a eficácia do modelo, utilizaremos as abordagens de validação cruzada k-fold e leave-one-out.\n",
    "\n",
    "Os dados utilizados estão disponíveis no arquivo df_compressor.xlsx."
   ]
  },
  {
   "cell_type": "code",
   "execution_count": 1,
   "metadata": {
    "id": "UIIrG3Bj23XH"
   },
   "outputs": [],
   "source": [
    "import pandas as pd\n",
    "\n",
    "df = pd.read_excel('df_compressor.xlsx')"
   ]
  },
  {
   "cell_type": "code",
   "execution_count": 2,
   "metadata": {
    "colab": {
     "base_uri": "https://localhost:8080/",
     "height": 206
    },
    "id": "2Jr87lMD32ff",
    "outputId": "ee313a30-8263-45b9-9b60-1c09e651a062"
   },
   "outputs": [
    {
     "data": {
      "text/html": [
       "<div>\n",
       "<style scoped>\n",
       "    .dataframe tbody tr th:only-of-type {\n",
       "        vertical-align: middle;\n",
       "    }\n",
       "\n",
       "    .dataframe tbody tr th {\n",
       "        vertical-align: top;\n",
       "    }\n",
       "\n",
       "    .dataframe thead th {\n",
       "        text-align: right;\n",
       "    }\n",
       "</style>\n",
       "<table border=\"1\" class=\"dataframe\">\n",
       "  <thead>\n",
       "    <tr style=\"text-align: right;\">\n",
       "      <th></th>\n",
       "      <th>Temperatura</th>\n",
       "      <th>Pressao</th>\n",
       "      <th>Velocidade</th>\n",
       "      <th>Vibracao</th>\n",
       "      <th>Anomalia</th>\n",
       "    </tr>\n",
       "  </thead>\n",
       "  <tbody>\n",
       "    <tr>\n",
       "      <th>0</th>\n",
       "      <td>45.599707</td>\n",
       "      <td>18.513293</td>\n",
       "      <td>130.852842</td>\n",
       "      <td>6.727030</td>\n",
       "      <td>0.0</td>\n",
       "    </tr>\n",
       "    <tr>\n",
       "      <th>1</th>\n",
       "      <td>77.289287</td>\n",
       "      <td>54.190095</td>\n",
       "      <td>123.489400</td>\n",
       "      <td>7.966814</td>\n",
       "      <td>0.0</td>\n",
       "    </tr>\n",
       "    <tr>\n",
       "      <th>2</th>\n",
       "      <td>65.259667</td>\n",
       "      <td>87.294584</td>\n",
       "      <td>453.127290</td>\n",
       "      <td>2.504679</td>\n",
       "      <td>0.0</td>\n",
       "    </tr>\n",
       "    <tr>\n",
       "      <th>3</th>\n",
       "      <td>57.926217</td>\n",
       "      <td>73.222489</td>\n",
       "      <td>124.773100</td>\n",
       "      <td>6.248741</td>\n",
       "      <td>0.0</td>\n",
       "    </tr>\n",
       "    <tr>\n",
       "      <th>4</th>\n",
       "      <td>33.581025</td>\n",
       "      <td>80.656115</td>\n",
       "      <td>135.974863</td>\n",
       "      <td>5.717460</td>\n",
       "      <td>0.0</td>\n",
       "    </tr>\n",
       "  </tbody>\n",
       "</table>\n",
       "</div>"
      ],
      "text/plain": [
       "   Temperatura    Pressao  Velocidade  Vibracao  Anomalia\n",
       "0    45.599707  18.513293  130.852842  6.727030       0.0\n",
       "1    77.289287  54.190095  123.489400  7.966814       0.0\n",
       "2    65.259667  87.294584  453.127290  2.504679       0.0\n",
       "3    57.926217  73.222489  124.773100  6.248741       0.0\n",
       "4    33.581025  80.656115  135.974863  5.717460       0.0"
      ]
     },
     "execution_count": 2,
     "metadata": {},
     "output_type": "execute_result"
    }
   ],
   "source": [
    "df.head()"
   ]
  },
  {
   "cell_type": "code",
   "execution_count": 3,
   "metadata": {
    "colab": {
     "base_uri": "https://localhost:8080/"
    },
    "id": "nyXFYDnt34Bh",
    "outputId": "32de1154-1539-4703-bdcc-58f885a9f7d0"
   },
   "outputs": [
    {
     "name": "stdout",
     "output_type": "stream",
     "text": [
      "<class 'pandas.core.frame.DataFrame'>\n",
      "RangeIndex: 1000 entries, 0 to 999\n",
      "Data columns (total 5 columns):\n",
      " #   Column       Non-Null Count  Dtype  \n",
      "---  ------       --------------  -----  \n",
      " 0   Temperatura  986 non-null    float64\n",
      " 1   Pressao      986 non-null    float64\n",
      " 2   Velocidade   986 non-null    float64\n",
      " 3   Vibracao     986 non-null    float64\n",
      " 4   Anomalia     986 non-null    float64\n",
      "dtypes: float64(5)\n",
      "memory usage: 39.2 KB\n"
     ]
    }
   ],
   "source": [
    "df.info()"
   ]
  },
  {
   "cell_type": "code",
   "execution_count": 4,
   "metadata": {
    "colab": {
     "base_uri": "https://localhost:8080/",
     "height": 241
    },
    "id": "udpDzDjo38Et",
    "outputId": "b68d86a0-d7fc-4f6e-9f59-43430b720d4d"
   },
   "outputs": [
    {
     "data": {
      "text/plain": [
       "Temperatura    14\n",
       "Pressao        14\n",
       "Velocidade     14\n",
       "Vibracao       14\n",
       "Anomalia       14\n",
       "dtype: int64"
      ]
     },
     "execution_count": 4,
     "metadata": {},
     "output_type": "execute_result"
    }
   ],
   "source": [
    "df.isnull().sum()"
   ]
  },
  {
   "cell_type": "code",
   "execution_count": 5,
   "metadata": {
    "id": "tcZxFrxE3-F_"
   },
   "outputs": [],
   "source": [
    "df.dropna(inplace=True)"
   ]
  },
  {
   "cell_type": "code",
   "execution_count": 6,
   "metadata": {
    "colab": {
     "base_uri": "https://localhost:8080/"
    },
    "id": "f1mrrQ424AZF",
    "outputId": "413a6d7f-71fe-4602-c282-3c891f3beab1"
   },
   "outputs": [
    {
     "name": "stdout",
     "output_type": "stream",
     "text": [
      "The dataset has 5 columns and 986 rows\n"
     ]
    }
   ],
   "source": [
    "print('The dataset has {} columns and {} rows'.format(df.shape[1], df.shape[0]))"
   ]
  },
  {
   "cell_type": "code",
   "execution_count": 7,
   "metadata": {
    "colab": {
     "base_uri": "https://localhost:8080/",
     "height": 301
    },
    "id": "R94XRkjI4QUZ",
    "outputId": "2583558b-4c7e-45c6-d4cd-18c5c6252516"
   },
   "outputs": [
    {
     "data": {
      "text/html": [
       "<div>\n",
       "<style scoped>\n",
       "    .dataframe tbody tr th:only-of-type {\n",
       "        vertical-align: middle;\n",
       "    }\n",
       "\n",
       "    .dataframe tbody tr th {\n",
       "        vertical-align: top;\n",
       "    }\n",
       "\n",
       "    .dataframe thead th {\n",
       "        text-align: right;\n",
       "    }\n",
       "</style>\n",
       "<table border=\"1\" class=\"dataframe\">\n",
       "  <thead>\n",
       "    <tr style=\"text-align: right;\">\n",
       "      <th></th>\n",
       "      <th>Temperatura</th>\n",
       "      <th>Pressao</th>\n",
       "      <th>Velocidade</th>\n",
       "      <th>Vibracao</th>\n",
       "      <th>Anomalia</th>\n",
       "    </tr>\n",
       "  </thead>\n",
       "  <tbody>\n",
       "    <tr>\n",
       "      <th>count</th>\n",
       "      <td>986.000000</td>\n",
       "      <td>986.000000</td>\n",
       "      <td>986.000000</td>\n",
       "      <td>986.000000</td>\n",
       "      <td>986.000000</td>\n",
       "    </tr>\n",
       "    <tr>\n",
       "      <th>mean</th>\n",
       "      <td>52.099539</td>\n",
       "      <td>50.864497</td>\n",
       "      <td>251.131367</td>\n",
       "      <td>4.894626</td>\n",
       "      <td>0.198783</td>\n",
       "    </tr>\n",
       "    <tr>\n",
       "      <th>std</th>\n",
       "      <td>16.074507</td>\n",
       "      <td>29.229588</td>\n",
       "      <td>145.404494</td>\n",
       "      <td>2.868781</td>\n",
       "      <td>0.399287</td>\n",
       "    </tr>\n",
       "    <tr>\n",
       "      <th>min</th>\n",
       "      <td>25.254761</td>\n",
       "      <td>0.321826</td>\n",
       "      <td>0.005817</td>\n",
       "      <td>0.006534</td>\n",
       "      <td>0.000000</td>\n",
       "    </tr>\n",
       "    <tr>\n",
       "      <th>25%</th>\n",
       "      <td>38.077562</td>\n",
       "      <td>24.141235</td>\n",
       "      <td>131.305399</td>\n",
       "      <td>2.415097</td>\n",
       "      <td>0.000000</td>\n",
       "    </tr>\n",
       "    <tr>\n",
       "      <th>50%</th>\n",
       "      <td>52.498859</td>\n",
       "      <td>52.036596</td>\n",
       "      <td>250.251179</td>\n",
       "      <td>4.840050</td>\n",
       "      <td>0.000000</td>\n",
       "    </tr>\n",
       "    <tr>\n",
       "      <th>75%</th>\n",
       "      <td>66.097433</td>\n",
       "      <td>76.102692</td>\n",
       "      <td>379.474013</td>\n",
       "      <td>7.377703</td>\n",
       "      <td>0.000000</td>\n",
       "    </tr>\n",
       "    <tr>\n",
       "      <th>max</th>\n",
       "      <td>79.984472</td>\n",
       "      <td>99.941373</td>\n",
       "      <td>498.910428</td>\n",
       "      <td>9.995577</td>\n",
       "      <td>1.000000</td>\n",
       "    </tr>\n",
       "  </tbody>\n",
       "</table>\n",
       "</div>"
      ],
      "text/plain": [
       "       Temperatura     Pressao  Velocidade    Vibracao    Anomalia\n",
       "count   986.000000  986.000000  986.000000  986.000000  986.000000\n",
       "mean     52.099539   50.864497  251.131367    4.894626    0.198783\n",
       "std      16.074507   29.229588  145.404494    2.868781    0.399287\n",
       "min      25.254761    0.321826    0.005817    0.006534    0.000000\n",
       "25%      38.077562   24.141235  131.305399    2.415097    0.000000\n",
       "50%      52.498859   52.036596  250.251179    4.840050    0.000000\n",
       "75%      66.097433   76.102692  379.474013    7.377703    0.000000\n",
       "max      79.984472   99.941373  498.910428    9.995577    1.000000"
      ]
     },
     "execution_count": 7,
     "metadata": {},
     "output_type": "execute_result"
    }
   ],
   "source": [
    "df.describe()"
   ]
  },
  {
   "cell_type": "code",
   "execution_count": 8,
   "metadata": {
    "colab": {
     "base_uri": "https://localhost:8080/"
    },
    "id": "MYQrX-NX4O6s",
    "outputId": "e3661d9b-cad0-412f-a29e-63759a0053a3"
   },
   "outputs": [
    {
     "data": {
      "text/plain": [
       "Index(['Temperatura', 'Pressao', 'Velocidade', 'Vibracao', 'Anomalia'], dtype='object')"
      ]
     },
     "execution_count": 8,
     "metadata": {},
     "output_type": "execute_result"
    }
   ],
   "source": [
    "df.columns"
   ]
  },
  {
   "cell_type": "code",
   "execution_count": 9,
   "metadata": {
    "colab": {
     "base_uri": "https://localhost:8080/",
     "height": 178
    },
    "id": "KG8KRLzf4gEz",
    "outputId": "586b7a2c-cd46-4ffe-bea9-4764e7b700cd"
   },
   "outputs": [
    {
     "data": {
      "text/plain": [
       "Anomalia\n",
       "0.0    790\n",
       "1.0    196\n",
       "Name: count, dtype: int64"
      ]
     },
     "execution_count": 9,
     "metadata": {},
     "output_type": "execute_result"
    }
   ],
   "source": [
    "df['Anomalia'].value_counts()"
   ]
  },
  {
   "cell_type": "code",
   "execution_count": 10,
   "metadata": {
    "colab": {
     "base_uri": "https://localhost:8080/"
    },
    "id": "b3brq4K-4j-1",
    "outputId": "b9c2b01b-bd96-4931-e00e-17c5aa8e53eb"
   },
   "outputs": [
    {
     "name": "stdout",
     "output_type": "stream",
     "text": [
      "Anomalia\n",
      "0 (ausância de anomalia) | número de amostras = 790\n",
      "1 (existência de anomalia) | número de amostras = 196\n"
     ]
    }
   ],
   "source": [
    "print('Anomalia')\n",
    "print('0 (ausância de anomalia) | número de amostras = {}'.format(df['Anomalia'].value_counts()[0]))\n",
    "print('1 (existência de anomalia) | número de amostras = {}'.format(df['Anomalia'].value_counts()[1]))"
   ]
  },
  {
   "cell_type": "code",
   "execution_count": 11,
   "metadata": {
    "colab": {
     "base_uri": "https://localhost:8080/"
    },
    "id": "RUYZDfZy5HUl",
    "outputId": "8541d0ea-fd9c-4bb9-ac17-b4ef362edd39"
   },
   "outputs": [
    {
     "name": "stdout",
     "output_type": "stream",
     "text": [
      "0 (ausência de anomalia) = 80.12170385395537\n",
      "1 (existência de anomalia) = 19.878296146044626\n"
     ]
    }
   ],
   "source": [
    "# Proporção entra as classes\n",
    "prop_normal = df['Anomalia'].value_counts()[0]/df['Anomalia'].value_counts().sum()\n",
    "\n",
    "prop_fail = df['Anomalia'].value_counts()[1]/df['Anomalia'].value_counts().sum()\n",
    "\n",
    "print('0 (ausência de anomalia) = {}'.format(prop_normal*100))\n",
    "print('1 (existência de anomalia) = {}'.format(prop_fail*100))"
   ]
  },
  {
   "cell_type": "code",
   "execution_count": 12,
   "metadata": {
    "id": "fLGsAhlu4HNq"
   },
   "outputs": [],
   "source": [
    "# Separar as variáveis em features e target\n",
    "X = df.drop(['Anomalia'], axis=1)\n",
    "y = df[['Anomalia']].values.ravel()"
   ]
  },
  {
   "cell_type": "code",
   "execution_count": 13,
   "metadata": {
    "colab": {
     "base_uri": "https://localhost:8080/",
     "height": 430
    },
    "id": "DszJDX5b6FBL",
    "outputId": "f68c6ff2-f12e-4830-f168-0dc34a101179"
   },
   "outputs": [
    {
     "data": {
      "image/png": "[encoded data removed]",
      "text/plain": [
       "<Figure size 640x480 with 1 Axes>"
      ]
     },
     "metadata": {},
     "output_type": "display_data"
    }
   ],
   "source": [
    "# Boxplot\n",
    "import matplotlib.pyplot as plt\n",
    "boxplot_x = X.boxplot()\n",
    "plt.show()"
   ]
  },
  {
   "cell_type": "code",
   "execution_count": 14,
   "metadata": {
    "id": "949zawnc6wTs"
   },
   "outputs": [],
   "source": [
    "# Normalização\n",
    "from sklearn.preprocessing import MinMaxScaler\n",
    "\n",
    "scaler_input = MinMaxScaler(feature_range=(-1,1))\n",
    "scaler_input.fit(X)\n",
    "\n",
    "X_norm = scaler_input.transform(X)"
   ]
  },
  {
   "cell_type": "markdown",
   "metadata": {
    "id": "KsirBqbs7UaN"
   },
   "source": [
    "Não é necessário normalizar os dados de saída (y), uma vez que os dados de saída correspondem a 0 ou 1."
   ]
  },
  {
   "cell_type": "code",
   "execution_count": 15,
   "metadata": {
    "id": "qHwNGYbE7CoF"
   },
   "outputs": [],
   "source": [
    "# Avaliação da performance do modelo de predição\n",
    "from sklearn.svm import SVC\n",
    "model = SVC(random_state=50)"
   ]
  },
  {
   "cell_type": "markdown",
   "metadata": {
    "id": "Qm1f3Mvb7ZBh"
   },
   "source": [
    "## Cross Validation"
   ]
  },
  {
   "cell_type": "markdown",
   "metadata": {
    "id": "TdsgzYbG77RQ"
   },
   "source": [
    "* O método [cross_val_score](https://scikit-learn.org/stable/modules/generated/sklearn.model_selection.cross_val_score.html) disponível na biblioteca [scikit-learn](https://scikit-learn.org/stable/index.html) será utilizado para viabilizar implementar a técnica validação cruzada (*cross validation*) em linguagem de programação *Python*.\n",
    "\n",
    "* O método [cross_val_score](https://scikit-learn.org/stable/modules/generated/sklearn.model_selection.cross_val_score.html) é uma ferramenta útil, uma vez que possibilita estimar os *k* valores de métrica de desempenho atrelados ao uso da técnica *k-fold cross validation*, assim como para a técnica *leave-one-out cross validation*.\n",
    "\n",
    "* Para utilizar o método ```cross_val_score()``` na tarefa de classificação em evidência neste exemplo, faz-se necessário definir cinco parâmetros: o tipo de modelo de classificação cujo desempenho será avaliado (```estimator```); os dados de entrada de entrada (```X```); os dados de saída (```y```); a métrica de desempenho (```scoring```); e o número de partições *k* (```cv```). A seguir encontra-se evidenciado como esses parâmetros são definidos no método ```cross_val_score()```:\n",
    "\n",
    "```python\n",
    "        cross_val_score(estimator,\n",
    "                         X,\n",
    "                         y=None,                \n",
    "                         scoring=None,\n",
    "                         cv=None)\n",
    "```\n",
    "\n",
    "* Não é necessário definir nenhum parâmetro para estratificar as classes durante a execução da técnica *k-fold cross validation* e *leave-one-out cross validation* para modelos de classificação, uma vez que essa estratificação é realizada automaticamente pelo próprio método ```cross_val_score()```.\n",
    "\n",
    "* Para utilizar o método ```cross_val_score()``` em tarefas de classificação a fim de implementar a técnica *leave-one-out cross validation*, é também necessário importar e utilizar o método [LeaveOneOut](https://scikit-learn.org/stable/modules/generated/sklearn.model_selection.LeaveOneOut.html#sklearn.model_selection.LeaveOneOut). Nessa situação, o método ```LeaveOneOut()``` deve ser igualado ao parâmetro ``cv`` ao utilizar o método ```cross_val_score()``` a fim de aplicar a técnica *leave-one-out cross validation*. O método ```LeaveOneOut()``` pode ser importado do seguinte modo:\n",
    "\n",
    "```python\n",
    "        from sklearn.model_selection import LeaveOneOut        \n",
    "```\n"
   ]
  },
  {
   "cell_type": "markdown",
   "metadata": {
    "id": "TV9Cbk3bdzDq"
   },
   "source": [
    "*k-fold cross validation*"
   ]
  },
  {
   "cell_type": "markdown",
   "metadata": {
    "id": "OhomhFHEd07n"
   },
   "source": [
    "* A técnica *k-fold cross validation* é usualmente empregada considerando o valor de k igual a 5 ou 10."
   ]
  },
  {
   "cell_type": "code",
   "execution_count": 16,
   "metadata": {
    "colab": {
     "base_uri": "https://localhost:8080/"
    },
    "id": "roNYsVSN7R5E",
    "outputId": "0f8311f1-321f-490b-8597-82082021fab8"
   },
   "outputs": [
    {
     "name": "stdout",
     "output_type": "stream",
     "text": [
      "[CV] END .................................................... total time=   0.0s\n",
      "[CV] END .................................................... total time=   0.0s\n",
      "[CV] END .................................................... total time=   0.0s\n",
      "[CV] END .................................................... total time=   0.0s\n",
      "[CV] END .................................................... total time=   0.0s\n",
      "[CV] END .................................................... total time=   0.0s\n",
      "[CV] END .................................................... total time=   0.0s\n",
      "[CV] END .................................................... total time=   0.0s\n",
      "[CV] END .................................................... total time=   0.0s\n",
      "[CV] END .................................................... total time=   0.0s\n",
      "Cross-validation scores: [0.798  0.798  0.798  0.798  0.798  0.798  0.8061 0.8061 0.8061 0.8061]\n"
     ]
    }
   ],
   "source": [
    "# Aplicando o k-fold cross-validation\n",
    "from sklearn.model_selection import cross_val_score\n",
    "import numpy as np\n",
    "\n",
    "k = 10\n",
    "scores = cross_val_score(model,\n",
    "                         X_norm,\n",
    "                         y,\n",
    "                         scoring='accuracy',\n",
    "                         cv=k,\n",
    "                         verbose=2)\n",
    "\n",
    "scores = np.round(scores, 4)\n",
    "\n",
    "print(f'Cross-validation scores: {scores}')"
   ]
  },
  {
   "cell_type": "code",
   "execution_count": 17,
   "metadata": {
    "colab": {
     "base_uri": "https://localhost:8080/"
    },
    "id": "Rp9XJ86aeOvK",
    "outputId": "fe75a200-e47c-4e26-80fe-98f759a52d5e"
   },
   "outputs": [
    {
     "name": "stdout",
     "output_type": "stream",
     "text": [
      "Média -> cross-validation scores: 0.8\n",
      "Desvio padrão -> cross-validation scores: 0.0\n"
     ]
    }
   ],
   "source": [
    "# Obtendo o valor médio de erro e a variação\n",
    "print(f'Média -> cross-validation scores: {round(scores.mean(), 2)}')\n",
    "print(f'Desvio padrão -> cross-validation scores: {round(scores.std(),2)}')"
   ]
  },
  {
   "cell_type": "code",
   "execution_count": 18,
   "metadata": {
    "colab": {
     "base_uri": "https://localhost:8080/",
     "height": 482
    },
    "id": "Hwcnae2rexGC",
    "outputId": "8ae1f1aa-0d86-43d6-d916-f4b4d7fed7f9"
   },
   "outputs": [
    {
     "data": {
      "image/png": "[encoded data removed]",
      "text/plain": [
       "<Figure size 640x480 with 1 Axes>"
      ]
     },
     "metadata": {},
     "output_type": "display_data"
    }
   ],
   "source": [
    "# Avaliando os valores de acurácia estimados via k-fold cross validation\n",
    "# Diagrama de caixa ou boxplot\n",
    "plt.boxplot(scores)\n",
    "plt.suptitle('Boxplot', fontsize=11)\n",
    "plt.title('k-fold cross validation', fontsize=12)\n",
    "plt.ylabel('Acurácia [-]', fontsize=12)\n",
    "plt.xticks(ticks=[1], labels=['SVM'], fontsize=12)\n",
    "plt.grid(True)\n",
    "plt.show()"
   ]
  },
  {
   "cell_type": "markdown",
   "metadata": {
    "id": "yBtq8MoefvhQ"
   },
   "source": [
    "*Leave-one-out cross validation*"
   ]
  },
  {
   "cell_type": "markdown",
   "metadata": {
    "id": "P-qm7uMBfwCx"
   },
   "source": [
    "* A técnica *Leave-one-out cross validation* corresponde ao uso do método de validação cruzada em que *k* é equivalente ao número de amostras (linhas) do banco de dados."
   ]
  },
  {
   "cell_type": "code",
   "execution_count": null,
   "metadata": {
    "colab": {
     "base_uri": "https://localhost:8080/"
    },
    "id": "9Dpbrxpufadn",
    "outputId": "9e4044e3-e46a-4bb6-98fd-6d47686eceeb"
   },
   "outputs": [],
   "source": [
    "from sklearn.model_selection import LeaveOneOut\n",
    "\n",
    "k = LeaveOneOut()\n",
    "scores = cross_val_score(model,\n",
    "                         X_norm,\n",
    "                         y,\n",
    "                         scoring='accuracy',\n",
    "                         cv=k,\n",
    "                         verbose=0)\n",
    "\n",
    "scores = np.round(scores, 4)\n",
    "\n",
    "print('Cross-validation scores: {}'.format(scores))"
   ]
  },
  {
   "cell_type": "code",
   "execution_count": null,
   "metadata": {
    "colab": {
     "base_uri": "https://localhost:8080/"
    },
    "id": "Ok-R4bRUgP0f",
    "outputId": "9ea8d8e2-3209-4cdd-b763-337113561544"
   },
   "outputs": [],
   "source": [
    "# Obtendo o valor médio de erro e a variação\n",
    "print(f'Média -> cross-validation scores: {round(scores.mean(), 2)}')\n",
    "print(f'Desvio padrão -> cross-validation scores: {round(scores.std(),2)}')"
   ]
  },
  {
   "cell_type": "code",
   "execution_count": null,
   "metadata": {
    "colab": {
     "base_uri": "https://localhost:8080/",
     "height": 482
    },
    "id": "3ocheLUJg6CY",
    "outputId": "e9000994-9d90-43fa-e798-e3d486f8db7e"
   },
   "outputs": [],
   "source": [
    "# Avaliando os valores de acurácia estimados via k-fold cross validation\n",
    "# Diagrama de caixa ou boxplot\n",
    "plt.boxplot(scores)\n",
    "plt.suptitle('Boxplot', fontsize=11)\n",
    "plt.title('k-fold cross validation', fontsize=12)\n",
    "plt.ylabel('Acurácia [-]', fontsize=12)\n",
    "plt.xticks(ticks=[1], labels=['SVM'], fontsize=12)\n",
    "plt.grid(True)\n",
    "plt.show()"
   ]
  },
  {
   "cell_type": "markdown",
   "metadata": {
    "id": "uKQ1b69GhD-9"
   },
   "source": [
    "**Considerações sobre a avaliação de performance do modelo de predição do tipo máquinan de vetores de suporte**\n",
    "\n",
    "* As técnicas *k-fold cross validation* e *leave-one-out cross validation* resultaram em estimativas de performance (média das métricas de desempenho) é aproximadamente nulo, enquanto que o desvio padrão calculado e atrelado à tecnica *leave-one-out cross validation* é aproximadamente 0,4.\n",
    "* Conforme esperado, o gráfico *boxplot* atrelado à aplicação da técnica *leave-one-out cross validation* evidencia apenas dois valores de acurácia: 0 ou 1."
   ]
  }
 ],
 "metadata": {
  "colab": {
   "provenance": []
  },
  "kernelspec": {
   "display_name": "Python 3 (ipykernel)",
   "language": "python",
   "name": "python3"
  },
  "language_info": {
   "codemirror_mode": {
    "name": "ipython",
    "version": 3
   },
   "file_extension": ".py",
   "mimetype": "text/x-python",
   "name": "python",
   "nbconvert_exporter": "python",
   "pygments_lexer": "ipython3",
   "version": "3.11.5"
  }
 },
 "nbformat": 4,
 "nbformat_minor": 1
}
